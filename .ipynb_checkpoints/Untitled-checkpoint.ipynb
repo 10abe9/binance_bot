{
 "cells": [
  {
   "cell_type": "code",
   "execution_count": null,
   "id": "03891107",
   "metadata": {},
   "outputs": [],
   "source": [
    "from binance.spot import Spot\n",
    "import binance\n",
    "import random"
   ]
  },
  {
   "cell_type": "code",
   "execution_count": null,
   "id": "2ded2c77",
   "metadata": {},
   "outputs": [],
   "source": [
    "# Введите путь к файлу с api key, secret key\n",
    "try:\n",
    "    with open(\"C:\\\\Users\\\\qdaid\\\\Desktop\\\\bnnsspt.txt\") as file:\n",
    "        api_key, api_secret = file.read().split(\"\\n\")\n",
    "except FileNotFoundError:\n",
    "    api_key = input(\"Введите api key\")\n",
    "    api_secret = input(\"Введите secret key\")\n"
   ]
  },
  {
   "cell_type": "code",
   "execution_count": null,
   "id": "251e2490",
   "metadata": {},
   "outputs": [],
   "source": [
    "def test_api_file():\n",
    "    assert api_key is not None\n",
    "    assert api_secret is not None"
   ]
  },
  {
   "cell_type": "code",
   "execution_count": null,
   "id": "da414c2e",
   "metadata": {},
   "outputs": [],
   "source": [
    "inp = {\n",
    "    \"volume\": 10000.0,  # Объем\n",
    "    \"number\": 5,  # На сколько ордеров\n",
    "    \"amountDif\": 50.0,  # Разброс\n",
    "    \"side\": \"SELL\",  # Сторона торговли (SELL или BUY)\n",
    "    \"priceMin\": 200.0,  # Нижний диапазон цены\n",
    "    \"priceMax\": 300.0  # Верхний диапазон цены\n",
    "}"
   ]
  },
  {
   "cell_type": "code",
   "execution_count": null,
   "id": "fe8d79e4",
   "metadata": {},
   "outputs": [],
   "source": [
    "def test_input(inp):\n",
    "    assert inp[\"volume\"] is not None\n",
    "    assert inp[\"number\"] is not None\n",
    "    assert inp[\"amountDif\"] is not None\n",
    "    assert inp[\"side\"] is not None\n",
    "    assert inp[\"priceMin\"] is not None\n",
    "    assert inp[\"priceMax\"] is not None"
   ]
  },
  {
   "cell_type": "code",
   "execution_count": null,
   "id": "032c899d",
   "metadata": {},
   "outputs": [],
   "source": [
    "client = Spot(api_key, api_secret)\n",
    "print(client.account())\n"
   ]
  },
  {
   "cell_type": "code",
   "execution_count": null,
   "id": "a36f202b",
   "metadata": {},
   "outputs": [],
   "source": [
    "def set_orders(volume: float, number: int, amountDif: float, side: str, priceMin: float, priceMax: float, ) -> bool:\n",
    "    client = Spot(api_key, api_secret)\n",
    "    params = {\n",
    "        'symbol': 'BTCUSDT',\n",
    "        'side': side,\n",
    "        'type': 'LIMIT',\n",
    "        'timeInForce': 'GTC',\n",
    "        'quantity': 0.002,\n",
    "        'price': 1\n",
    "    }\n",
    "    for i in range(number - 1):\n",
    "        order = random.randint(priceMin, priceMax)\n",
    "        if volume < order:\n",
    "            print(f\"Всего удалось выполнить только {i} ордеров, больше денег нет \")\n",
    "            return False\n",
    "        else:\n",
    "            volume -= order\n",
    "        if side == \"SELL\":\n",
    "            params[\"quantity\"] = order\n",
    "            response = client.new_order(**params)\n",
    "            print(response)\n",
    "        elif side == \"BUY\":\n",
    "            params[\"quantity\"] = order\n",
    "            response = client.new_order(**params)\n",
    "        else:\n",
    "            volume += order\n",
    "            print(\"Ваш ордер не может быть исполнен\")\n",
    "            return False\n",
    "    order = random.randint(priceMin, priceMax)\n",
    "    if volume > order:\n",
    "        params[\"quantity\"] = order\n",
    "        response = client.new_order(**params)\n",
    "        print(response)\n",
    "    elif volume >= priceMin:\n",
    "        params[\"quantity\"] = order\n",
    "        response = client.new_order(**params)\n",
    "        print(response)\n",
    "    else:\n",
    "        print(f\"Всего удалось выполнить только {number - 1} ордеров \")\n",
    "        return False\n",
    "    return True"
   ]
  },
  {
   "cell_type": "code",
   "execution_count": null,
   "id": "6379bf0e",
   "metadata": {},
   "outputs": [],
   "source": [
    "try:\n",
    "    set_orders(inp[\"volume\"], inp[\"number\"], inp[\"amountDif\"], inp[\"side\"], inp[\"priceMin\"], inp[\"priceMax\"])\n",
    "except binance.error.ClientError:\n",
    "    print(\"Вы неверно ввели свой ключ доступа.\")\n",
    "except ValueError:\n",
    "    print(\"Пожалуйста, проверьте правильность введенных данных.\")\n"
   ]
  }
 ],
 "metadata": {
  "kernelspec": {
   "display_name": "Python 3 (ipykernel)",
   "language": "python",
   "name": "python3"
  },
  "language_info": {
   "codemirror_mode": {
    "name": "ipython",
    "version": 3
   },
   "file_extension": ".py",
   "mimetype": "text/x-python",
   "name": "python",
   "nbconvert_exporter": "python",
   "pygments_lexer": "ipython3",
   "version": "3.10.4"
  }
 },
 "nbformat": 4,
 "nbformat_minor": 5
}
