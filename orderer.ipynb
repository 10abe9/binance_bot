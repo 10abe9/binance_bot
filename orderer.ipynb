{
 "cells": [
  {
   "cell_type": "code",
   "execution_count": 1,
   "id": "c966f51e",
   "metadata": {},
   "outputs": [],
   "source": [
    "from binance.spot import Spot\n",
    "import binance\n",
    "import random"
   ]
  },
  {
   "cell_type": "code",
   "execution_count": 2,
   "id": "0905f006",
   "metadata": {},
   "outputs": [
    {
     "name": "stdout",
     "output_type": "stream",
     "text": [
      "Введите api keyads\n",
      "Введите secret keyasd\n"
     ]
    }
   ],
   "source": [
    "# Введите путь к файлу с api key, secret key\n",
    "try:\n",
    "    with open(\"C:\\\\Users\\\\qdaid\\\\Desktop\\\\bnnsspt.txt\") as file:\n",
    "        api_key, api_secret = file.read().split(\"\\n\")\n",
    "except FileNotFoundError:\n",
    "    api_key = input(\"Введите api key\")\n",
    "    api_secret = input(\"Введите secret key\")\n"
   ]
  },
  {
   "cell_type": "code",
   "execution_count": 4,
   "id": "383fe4d2",
   "metadata": {},
   "outputs": [],
   "source": [
    "def test_api_file():\n",
    "    assert api_key is not None\n",
    "    assert api_secret is not None"
   ]
  },
  {
   "cell_type": "code",
   "execution_count": 5,
   "id": "5840e4cc",
   "metadata": {},
   "outputs": [],
   "source": [
    "inp = {\n",
    "    \"volume\": 10000.0,  # Объем\n",
    "    \"number\": 5,  # На сколько ордеров\n",
    "    \"amountDif\": 50.0,  # Разброс\n",
    "    \"side\": \"SELL\",  # Сторона торговли (SELL или BUY)\n",
    "    \"priceMin\": 200.0,  # Нижний диапазон цены\n",
    "    \"priceMax\": 300.0  # Верхний диапазон цены\n",
    "}"
   ]
  },
  {
   "cell_type": "code",
   "execution_count": 6,
   "id": "cc38cfb7",
   "metadata": {},
   "outputs": [],
   "source": [
    "def test_input(inp):\n",
    "    assert inp[\"volume\"] is not None\n",
    "    assert inp[\"number\"] is not None\n",
    "    assert inp[\"amountDif\"] is not None\n",
    "    assert inp[\"side\"] is not None\n",
    "    assert inp[\"priceMin\"] is not None\n",
    "    assert inp[\"priceMax\"] is not None"
   ]
  },
  {
   "cell_type": "code",
   "execution_count": 7,
   "id": "21156cae",
   "metadata": {},
   "outputs": [
    {
     "ename": "ClientError",
     "evalue": "(401, -2014, 'API-key format invalid.', {'Content-Type': 'application/json;charset=UTF-8', 'Content-Length': '46', 'Connection': 'keep-alive', 'Date': 'Thu, 25 May 2023 06:17:28 GMT', 'Server': 'nginx', 'x-mbx-uuid': '5d091e69-5bbd-4c41-8891-04572c7ce00c', 'x-mbx-used-weight': '10', 'x-mbx-used-weight-1m': '10', 'Strict-Transport-Security': 'max-age=31536000; includeSubdomains', 'X-Frame-Options': 'SAMEORIGIN', 'X-Xss-Protection': '1; mode=block', 'X-Content-Type-Options': 'nosniff', 'Content-Security-Policy': \"default-src 'self'\", 'X-Content-Security-Policy': \"default-src 'self'\", 'X-WebKit-CSP': \"default-src 'self'\", 'Cache-Control': 'no-cache, no-store, must-revalidate', 'Pragma': 'no-cache', 'Expires': '0', 'X-Cache': 'Error from cloudfront', 'Via': '1.1 da638d87f8ab43a61f74ca34a51fd8b8.cloudfront.net (CloudFront)', 'X-Amz-Cf-Pop': 'HEL51-P1', 'X-Amz-Cf-Id': 'IQD05sKxEBNQeI7aSpYtU5ThKBXkJ9dqq-Qzhg7gtyv8ADn0UMlAyQ=='}, None)",
     "output_type": "error",
     "traceback": [
      "\u001b[1;31m---------------------------------------------------------------------------\u001b[0m",
      "\u001b[1;31mClientError\u001b[0m                               Traceback (most recent call last)",
      "Cell \u001b[1;32mIn[7], line 2\u001b[0m\n\u001b[0;32m      1\u001b[0m client \u001b[38;5;241m=\u001b[39m Spot(api_key, api_secret)\n\u001b[1;32m----> 2\u001b[0m \u001b[38;5;28mprint\u001b[39m(\u001b[43mclient\u001b[49m\u001b[38;5;241;43m.\u001b[39;49m\u001b[43maccount\u001b[49m\u001b[43m(\u001b[49m\u001b[43m)\u001b[49m)\n",
      "File \u001b[1;32m~\\Desktop\\pythonProjects\\job0\\venv\\lib\\site-packages\\binance\\spot\\_trade.py:397\u001b[0m, in \u001b[0;36maccount\u001b[1;34m(self, **kwargs)\u001b[0m\n\u001b[0;32m    384\u001b[0m \u001b[38;5;250m\u001b[39m\u001b[38;5;124;03m\"\"\"Account Information (USER_DATA)\u001b[39;00m\n\u001b[0;32m    385\u001b[0m \n\u001b[0;32m    386\u001b[0m \u001b[38;5;124;03mGet current account information\u001b[39;00m\n\u001b[1;32m   (...)\u001b[0m\n\u001b[0;32m    393\u001b[0m \u001b[38;5;124;03m    recvWindow (int, optional): The value cannot be greater than 60000\u001b[39;00m\n\u001b[0;32m    394\u001b[0m \u001b[38;5;124;03m\"\"\"\u001b[39;00m\n\u001b[0;32m    396\u001b[0m url_path \u001b[38;5;241m=\u001b[39m \u001b[38;5;124m\"\u001b[39m\u001b[38;5;124m/api/v3/account\u001b[39m\u001b[38;5;124m\"\u001b[39m\n\u001b[1;32m--> 397\u001b[0m \u001b[38;5;28;01mreturn\u001b[39;00m \u001b[38;5;28;43mself\u001b[39;49m\u001b[38;5;241;43m.\u001b[39;49m\u001b[43msign_request\u001b[49m\u001b[43m(\u001b[49m\u001b[38;5;124;43m\"\u001b[39;49m\u001b[38;5;124;43mGET\u001b[39;49m\u001b[38;5;124;43m\"\u001b[39;49m\u001b[43m,\u001b[49m\u001b[43m \u001b[49m\u001b[43murl_path\u001b[49m\u001b[43m,\u001b[49m\u001b[43m \u001b[49m\u001b[43m{\u001b[49m\u001b[38;5;241;43m*\u001b[39;49m\u001b[38;5;241;43m*\u001b[39;49m\u001b[43mkwargs\u001b[49m\u001b[43m}\u001b[49m\u001b[43m)\u001b[49m\n",
      "File \u001b[1;32m~\\Desktop\\pythonProjects\\job0\\venv\\lib\\site-packages\\binance\\api.py:84\u001b[0m, in \u001b[0;36mAPI.sign_request\u001b[1;34m(self, http_method, url_path, payload)\u001b[0m\n\u001b[0;32m     82\u001b[0m query_string \u001b[38;5;241m=\u001b[39m \u001b[38;5;28mself\u001b[39m\u001b[38;5;241m.\u001b[39m_prepare_params(payload)\n\u001b[0;32m     83\u001b[0m payload[\u001b[38;5;124m\"\u001b[39m\u001b[38;5;124msignature\u001b[39m\u001b[38;5;124m\"\u001b[39m] \u001b[38;5;241m=\u001b[39m \u001b[38;5;28mself\u001b[39m\u001b[38;5;241m.\u001b[39m_get_sign(query_string)\n\u001b[1;32m---> 84\u001b[0m \u001b[38;5;28;01mreturn\u001b[39;00m \u001b[38;5;28;43mself\u001b[39;49m\u001b[38;5;241;43m.\u001b[39;49m\u001b[43msend_request\u001b[49m\u001b[43m(\u001b[49m\u001b[43mhttp_method\u001b[49m\u001b[43m,\u001b[49m\u001b[43m \u001b[49m\u001b[43murl_path\u001b[49m\u001b[43m,\u001b[49m\u001b[43m \u001b[49m\u001b[43mpayload\u001b[49m\u001b[43m)\u001b[49m\n",
      "File \u001b[1;32m~\\Desktop\\pythonProjects\\job0\\venv\\lib\\site-packages\\binance\\api.py:119\u001b[0m, in \u001b[0;36mAPI.send_request\u001b[1;34m(self, http_method, url_path, payload)\u001b[0m\n\u001b[0;32m    117\u001b[0m response \u001b[38;5;241m=\u001b[39m \u001b[38;5;28mself\u001b[39m\u001b[38;5;241m.\u001b[39m_dispatch_request(http_method)(\u001b[38;5;241m*\u001b[39m\u001b[38;5;241m*\u001b[39mparams)\n\u001b[0;32m    118\u001b[0m \u001b[38;5;28mself\u001b[39m\u001b[38;5;241m.\u001b[39m_logger\u001b[38;5;241m.\u001b[39mdebug(\u001b[38;5;124m\"\u001b[39m\u001b[38;5;124mraw response from server:\u001b[39m\u001b[38;5;124m\"\u001b[39m \u001b[38;5;241m+\u001b[39m response\u001b[38;5;241m.\u001b[39mtext)\n\u001b[1;32m--> 119\u001b[0m \u001b[38;5;28;43mself\u001b[39;49m\u001b[38;5;241;43m.\u001b[39;49m\u001b[43m_handle_exception\u001b[49m\u001b[43m(\u001b[49m\u001b[43mresponse\u001b[49m\u001b[43m)\u001b[49m\n\u001b[0;32m    121\u001b[0m \u001b[38;5;28;01mtry\u001b[39;00m:\n\u001b[0;32m    122\u001b[0m     data \u001b[38;5;241m=\u001b[39m response\u001b[38;5;241m.\u001b[39mjson()\n",
      "File \u001b[1;32m~\\Desktop\\pythonProjects\\job0\\venv\\lib\\site-packages\\binance\\api.py:178\u001b[0m, in \u001b[0;36mAPI._handle_exception\u001b[1;34m(self, response)\u001b[0m\n\u001b[0;32m    176\u001b[0m     \u001b[38;5;28;01mif\u001b[39;00m \u001b[38;5;124m\"\u001b[39m\u001b[38;5;124mdata\u001b[39m\u001b[38;5;124m\"\u001b[39m \u001b[38;5;129;01min\u001b[39;00m err:\n\u001b[0;32m    177\u001b[0m         error_data \u001b[38;5;241m=\u001b[39m err[\u001b[38;5;124m\"\u001b[39m\u001b[38;5;124mdata\u001b[39m\u001b[38;5;124m\"\u001b[39m]\n\u001b[1;32m--> 178\u001b[0m     \u001b[38;5;28;01mraise\u001b[39;00m ClientError(\n\u001b[0;32m    179\u001b[0m         status_code, err[\u001b[38;5;124m\"\u001b[39m\u001b[38;5;124mcode\u001b[39m\u001b[38;5;124m\"\u001b[39m], err[\u001b[38;5;124m\"\u001b[39m\u001b[38;5;124mmsg\u001b[39m\u001b[38;5;124m\"\u001b[39m], response\u001b[38;5;241m.\u001b[39mheaders, error_data\n\u001b[0;32m    180\u001b[0m     )\n\u001b[0;32m    181\u001b[0m \u001b[38;5;28;01mraise\u001b[39;00m ServerError(status_code, response\u001b[38;5;241m.\u001b[39mtext)\n",
      "\u001b[1;31mClientError\u001b[0m: (401, -2014, 'API-key format invalid.', {'Content-Type': 'application/json;charset=UTF-8', 'Content-Length': '46', 'Connection': 'keep-alive', 'Date': 'Thu, 25 May 2023 06:17:28 GMT', 'Server': 'nginx', 'x-mbx-uuid': '5d091e69-5bbd-4c41-8891-04572c7ce00c', 'x-mbx-used-weight': '10', 'x-mbx-used-weight-1m': '10', 'Strict-Transport-Security': 'max-age=31536000; includeSubdomains', 'X-Frame-Options': 'SAMEORIGIN', 'X-Xss-Protection': '1; mode=block', 'X-Content-Type-Options': 'nosniff', 'Content-Security-Policy': \"default-src 'self'\", 'X-Content-Security-Policy': \"default-src 'self'\", 'X-WebKit-CSP': \"default-src 'self'\", 'Cache-Control': 'no-cache, no-store, must-revalidate', 'Pragma': 'no-cache', 'Expires': '0', 'X-Cache': 'Error from cloudfront', 'Via': '1.1 da638d87f8ab43a61f74ca34a51fd8b8.cloudfront.net (CloudFront)', 'X-Amz-Cf-Pop': 'HEL51-P1', 'X-Amz-Cf-Id': 'IQD05sKxEBNQeI7aSpYtU5ThKBXkJ9dqq-Qzhg7gtyv8ADn0UMlAyQ=='}, None)"
     ]
    }
   ],
   "source": [
    "client = Spot(api_key, api_secret)\n",
    "print(client.account())\n"
   ]
  },
  {
   "cell_type": "code",
   "execution_count": 9,
   "id": "eec6079f",
   "metadata": {},
   "outputs": [],
   "source": [
    "def set_orders(volume: float, number: int, amountDif: float, side: str, priceMin: float, priceMax: float, ) -> bool:\n",
    "    client = Spot(api_key, api_secret)\n",
    "    params = {\n",
    "        'symbol': 'BTCUSDT',\n",
    "        'side': side,\n",
    "        'type': 'LIMIT',\n",
    "        'timeInForce': 'GTC',\n",
    "        'quantity': 0.002,\n",
    "        'price': 1\n",
    "    }\n",
    "    for i in range(number - 1):\n",
    "        order = random.randint(priceMin, priceMax)\n",
    "        if volume < order:\n",
    "            print(f\"Всего удалось выполнить только {i} ордеров, больше денег нет \")\n",
    "            return False\n",
    "        else:\n",
    "            volume -= order\n",
    "        if side == \"SELL\":\n",
    "            params[\"quantity\"] = order\n",
    "            response = client.new_order(**params)\n",
    "            print(response)\n",
    "        elif side == \"BUY\":\n",
    "            params[\"quantity\"] = order\n",
    "            response = client.new_order(**params)\n",
    "        else:\n",
    "            volume += order\n",
    "            print(\"Ваш ордер не может быть исполнен\")\n",
    "            return False\n",
    "    order = random.randint(priceMin, priceMax)\n",
    "    if volume > order:\n",
    "        params[\"quantity\"] = order\n",
    "        response = client.new_order(**params)\n",
    "        print(response)\n",
    "    elif volume >= priceMin:\n",
    "        params[\"quantity\"] = order\n",
    "        response = client.new_order(**params)\n",
    "        print(response)\n",
    "    else:\n",
    "        print(f\"Всего удалось выполнить только {number - 1} ордеров \")\n",
    "        return False\n",
    "    return True"
   ]
  },
  {
   "cell_type": "code",
   "execution_count": 10,
   "id": "278222c8",
   "metadata": {},
   "outputs": [
    {
     "name": "stdout",
     "output_type": "stream",
     "text": [
      "Вы неверно ввели свой ключ доступа.\n"
     ]
    }
   ],
   "source": [
    "try:\n",
    "    set_orders(inp[\"volume\"], inp[\"number\"], inp[\"amountDif\"], inp[\"side\"], inp[\"priceMin\"], inp[\"priceMax\"])\n",
    "except binance.error.ClientError:\n",
    "    print(\"Вы неверно ввели свой ключ доступа.\")\n",
    "except ValueError:\n",
    "    print(\"Пожалуйста, проверьте правильность введенных данных.\")\n"
   ]
  },
  {
   "cell_type": "code",
   "execution_count": null,
   "id": "9d699833",
   "metadata": {},
   "outputs": [],
   "source": []
  }
 ],
 "metadata": {
  "kernelspec": {
   "display_name": "Python 3 (ipykernel)",
   "language": "python",
   "name": "python3"
  },
  "language_info": {
   "codemirror_mode": {
    "name": "ipython",
    "version": 3
   },
   "file_extension": ".py",
   "mimetype": "text/x-python",
   "name": "python",
   "nbconvert_exporter": "python",
   "pygments_lexer": "ipython3",
   "version": "3.10.4"
  }
 },
 "nbformat": 4,
 "nbformat_minor": 5
}
